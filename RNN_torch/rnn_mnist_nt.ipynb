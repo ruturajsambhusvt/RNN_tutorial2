{
 "cells": [
  {
   "cell_type": "code",
   "execution_count": 36,
   "metadata": {},
   "outputs": [
    {
     "name": "stdout",
     "output_type": "stream",
     "text": [
      "['data/names/Polish.txt', 'data/names/English.txt', 'data/names/Russian.txt', 'data/names/Vietnamese.txt', 'data/names/Scottish.txt', 'data/names/Korean.txt', 'data/names/Chinese.txt', 'data/names/German.txt', 'data/names/Italian.txt', 'data/names/French.txt', 'data/names/Dutch.txt', 'data/names/Portuguese.txt', 'data/names/Spanish.txt', 'data/names/Greek.txt', 'data/names/Irish.txt', 'data/names/Arabic.txt', 'data/names/Czech.txt', 'data/names/Japanese.txt']\n"
     ]
    }
   ],
   "source": [
    "from __future__ import unicode_literals, print_function, division\n",
    "from io import open\n",
    "import glob\n",
    "import os\n",
    "\n",
    "def findFiles(path): return glob.glob(path) #what does this do? this is a function that takes a path and returns a list of files in that path\n",
    "\n",
    "print(findFiles('data/names/*.txt'))\n",
    "\n"
   ]
  },
  {
   "cell_type": "code",
   "execution_count": 37,
   "metadata": {},
   "outputs": [
    {
     "name": "stdout",
     "output_type": "stream",
     "text": [
      "Slusarski\n"
     ]
    }
   ],
   "source": [
    "import unicodedata\n",
    "import string\n",
    "\n",
    "all_letters = string.ascii_letters + \" .,;\" #what does this do? this is a string of all the letters in the alphabet and some punctuation\n",
    "n_letters = len(all_letters)# why is this 57? this is the number of letters in the alphabet and punctuation\n",
    "\n",
    "# Turn a Unicode string to plain ASCII, thanks to https://stackoverflow.com/a/518232/2809427\n",
    "\n",
    "def unicodeToAscii(s):\n",
    "    return ''.join(\n",
    "        c for c in unicodedata.normalize('NFD', s) #NFD is a normalization form that decomposes a character by canonical decomposition\n",
    "        if unicodedata.category(c)!= 'Mn' #Mn is a category of nonspacing marks\n",
    "        and c in all_letters #this line is checking if the character is in the string of all letters\n",
    "    )\n",
    "    \n",
    "print(unicodeToAscii('Ślusàrski'))\n",
    "\n",
    "#Build the category_lines dictionary, a list of names per language\n",
    "category_lines = {}\n",
    "all_categories = []"
   ]
  },
  {
   "cell_type": "code",
   "execution_count": 38,
   "metadata": {},
   "outputs": [],
   "source": [
    "# Read a file and split into lines\n",
    "def readLines(filename):\n",
    "    lines = open(filename, encoding='utf-8').read().strip().split('\\n')\n",
    "    return [unicodeToAscii(line) for line in lines]\n",
    "\n",
    "for filename in findFiles('data/names/*.txt'):\n",
    "    category = os.path.splitext(os.path.basename(filename))[0] #this is splitting the file name from the path and then splitting the file name from the extension\n",
    "    all_categories.append(category)\n",
    "    lines = readLines(filename)\n",
    "    category_lines[category] = lines\n",
    "\n",
    "n_categories = len(all_categories)\n",
    "    "
   ]
  },
  {
   "cell_type": "code",
   "execution_count": 39,
   "metadata": {},
   "outputs": [
    {
     "name": "stdout",
     "output_type": "stream",
     "text": [
      "['Abandonato', 'Abatangelo', 'Abatantuono', 'Abate', 'Abategiovanni']\n"
     ]
    }
   ],
   "source": [
    "print(category_lines['Italian'][:5])"
   ]
  },
  {
   "cell_type": "code",
   "execution_count": 40,
   "metadata": {},
   "outputs": [
    {
     "name": "stdout",
     "output_type": "stream",
     "text": [
      "tensor([[0., 0., 0., 0., 0., 0., 0., 0., 0., 0., 0., 0., 0., 0., 0., 0., 0., 0.,\n",
      "         0., 0., 0., 0., 0., 0., 0., 0., 0., 0., 0., 0., 0., 0., 0., 0., 0., 1.,\n",
      "         0., 0., 0., 0., 0., 0., 0., 0., 0., 0., 0., 0., 0., 0., 0., 0., 0., 0.,\n",
      "         0., 0.]])\n",
      "torch.Size([5, 1, 56])\n"
     ]
    }
   ],
   "source": [
    "#To represent a single letter, we use a “one-hot vector” of size <1 x n_letters>. A one-hot vector is filled with 0s except for a 1 at index of the current letter, e.g. \"b\" = <0 1 0 0 0 ...>.\n",
    "\n",
    "# To make a word we join a bunch of those into a 2D matrix <line_length x 1 x n_letters>.\n",
    "\n",
    "# That extra 1 dimension is because PyTorch assumes everything is in batches - we’re just using a batch size of 1 here.\n",
    "\n",
    "\n",
    "import torch\n",
    "# Find letter index from all_letters, e.g. \"a\" = 0\n",
    "def letterToIndex(letter):\n",
    "    return all_letters.find(letter)\n",
    "\n",
    "# Just for demonstration, turn a letter into a <1 x n_letters> Tensor\n",
    "def letterToTensor(letter):\n",
    "    tensor = torch.zeros(1,n_letters)\n",
    "    tensor[0][letterToIndex(letter)] = 1\n",
    "    return tensor\n",
    "\n",
    "# Turn a line into a <line_length x 1 x n_letters>,\n",
    "# or an array of one-hot letter vectors\n",
    "def lineToTensor(line):\n",
    "    tensor = torch.zeros(len(line),1, n_letters)\n",
    "    for li, letter in enumerate(line):\n",
    "        tensor[li][0][letterToIndex(letter)] = 1\n",
    "    return tensor\n",
    "\n",
    "print(letterToTensor('J'))\n",
    "\n",
    "print(lineToTensor('Jones').size())\n",
    "\n"
   ]
  },
  {
   "cell_type": "code",
   "execution_count": 41,
   "metadata": {},
   "outputs": [],
   "source": [
    "import torch.nn as nn\n",
    "\n",
    "class RNN(nn.Module):\n",
    "    def __init__(self, input_size, hidden_size, output_size):\n",
    "        super(RNN,self).__init__()\n",
    "        \n",
    "        self.hidden_size = hidden_size\n",
    "        self.i2h = nn.Linear(input_size + hidden_size, hidden_size)\n",
    "        self.i2o = nn.Linear(input_size + hidden_size, output_size)\n",
    "        self.softmax = nn.LogSoftmax(dim=1) #why dim=1? this is the dimension along which the softmax is applied\n",
    "        \n",
    "    def forward(self, input, hidden):\n",
    "        combined = torch.cat((input, hidden), 1)#why this dimension? this is the dimension along which the tensors are concatenated\n",
    "        hidden = self.i2h(combined)\n",
    "        output = self.i2o(combined)\n",
    "        output = self.softmax(output)\n",
    "        return output, hidden\n",
    "\n",
    "        \n",
    "    def initHidden(self):\n",
    "        return torch.zeros(1,self.hidden_size)\n",
    "\n",
    "n_hidden = 128\n",
    "rnn = RNN(n_letters, n_hidden, n_categories)"
   ]
  },
  {
   "cell_type": "code",
   "execution_count": 42,
   "metadata": {},
   "outputs": [],
   "source": [
    "input = letterToTensor('A')\n",
    "hidden = torch.zeros(1,n_hidden)\n",
    "\n",
    "output, next_hidden = rnn(input, hidden)"
   ]
  },
  {
   "attachments": {},
   "cell_type": "markdown",
   "metadata": {},
   "source": [
    "For the sake of efficiency we don’t want to be creating a new Tensor for every step, so we will use lineToTensor instead of letterToTensor and use slices. This could be further optimized by pre-computing batches of Tensors."
   ]
  },
  {
   "cell_type": "code",
   "execution_count": 43,
   "metadata": {},
   "outputs": [
    {
     "name": "stdout",
     "output_type": "stream",
     "text": [
      "tensor([[-2.8942, -2.8831, -2.7738, -2.9704, -2.8909, -2.8563, -2.8616, -2.9327,\n",
      "         -2.8287, -2.9347, -2.9138, -2.7423, -2.9745, -2.9044, -2.9604, -2.9244,\n",
      "         -2.8867, -2.9280]], grad_fn=<LogSoftmaxBackward0>)\n"
     ]
    }
   ],
   "source": [
    "input = lineToTensor('Albert')\n",
    "hidden = torch.zeros(1, n_hidden)\n",
    "\n",
    "output, next_hidden = rnn(input[0],hidden)\n",
    "print(output)"
   ]
  },
  {
   "attachments": {},
   "cell_type": "markdown",
   "metadata": {},
   "source": [
    "Preparing for Training\n",
    "\n",
    "Before going into training we should make a few helper functions. The first is to interpret the output of the network, which we know to be a likelihood of each category. We can use Tensor.topk to get the index of the greatest value"
   ]
  },
  {
   "cell_type": "code",
   "execution_count": 44,
   "metadata": {},
   "outputs": [
    {
     "name": "stdout",
     "output_type": "stream",
     "text": [
      "('Portuguese', 11)\n"
     ]
    }
   ],
   "source": [
    "def categoryFromOutput(output):\n",
    "    top_n, top_i = output.topk(1) #what is topk? this is a function that returns the k largest elements of the given input tensor along a given dimension\n",
    "    category_i = top_i[0].item() #what is item? this is a function that returns the value of this tensor as a standard python number# and what is top_i[0]? this is the first element of the tensor\n",
    "    return all_categories[category_i], category_i\n",
    "\n",
    "print(categoryFromOutput(output))"
   ]
  },
  {
   "cell_type": "code",
   "execution_count": 45,
   "metadata": {},
   "outputs": [
    {
     "name": "stdout",
     "output_type": "stream",
     "text": [
      "category = Greek / line = Bursinos\n",
      "category = Irish / line = Doherty\n",
      "category = Scottish / line = Whyte\n",
      "category = Dutch / line = Alst\n",
      "category = Japanese / line = Chikamatsu\n",
      "category = Spanish / line = Ibarra\n",
      "category = Portuguese / line = Madeira\n",
      "category = Dutch / line = Segers\n",
      "category = Japanese / line = Nagasawa\n",
      "category = Russian / line = Harlashenkov\n"
     ]
    }
   ],
   "source": [
    "# We will also want a quick way to get a training example (a name and its language):\n",
    "import random\n",
    "def randomChoice(l):\n",
    "    return l[random.randint(0, len(l)-1)]\n",
    "\n",
    "def randomTrainingExample():\n",
    "    category = randomChoice(all_categories)\n",
    "    line = randomChoice(category_lines[category])\n",
    "    category_tensor = torch.tensor([all_categories.index(category)],dtype=torch.long)\n",
    "    line_tensor = lineToTensor(line)\n",
    "    return category, line, category_tensor, line_tensor\n",
    "\n",
    "for i in range(10):\n",
    "    category, line, category_tensor, line_tensor = randomTrainingExample()\n",
    "    print('category =', category, '/ line =', line)"
   ]
  },
  {
   "attachments": {},
   "cell_type": "markdown",
   "metadata": {},
   "source": [
    "Training the Network\n",
    "\n",
    "Now all it takes to train this network is show it a bunch of examples, have it make guesses, and tell it if it’s wrong.\n",
    "\n",
    "For the loss function nn.NLLLoss is appropriate, since the last layer of the RNN is nn.LogSoftmax."
   ]
  },
  {
   "cell_type": "code",
   "execution_count": 46,
   "metadata": {},
   "outputs": [],
   "source": [
    "criterion = nn.NLLLoss() #what is NLLLoss? this is a negative log likelihood loss function\n"
   ]
  },
  {
   "attachments": {},
   "cell_type": "markdown",
   "metadata": {},
   "source": [
    "Each loop of training will:\n",
    "\n",
    "    Create input and target tensors\n",
    "\n",
    "    Create a zeroed initial hidden state\n",
    "\n",
    "    Read each letter in and\n",
    "\n",
    "    Keep hidden state for next letter\n",
    "\n",
    "    Compare final output to target\n",
    "\n",
    "    Back-propagate\n",
    "\n",
    "    Return the output and loss\n"
   ]
  },
  {
   "cell_type": "code",
   "execution_count": 47,
   "metadata": {},
   "outputs": [],
   "source": [
    "learning_rate = 0.005 # If you set this too high, it might explode. If too low, it might not learn\n",
    "\n",
    "def train(category_tensor, line_tensor):\n",
    "    hidden = rnn.initHidden()\n",
    "    \n",
    "    rnn.zero_grad()\n",
    "    \n",
    "    for i in range(line_tensor.size()[0]):\n",
    "        output, hidden =  rnn(line_tensor[i], hidden)\n",
    "        \n",
    "    loss = criterion(output, category_tensor)\n",
    "    loss.backward()\n",
    "    \n",
    "    # Add parameters' gradients to their values, multiplied by learning rate\n",
    "    for p in rnn.parameters():\n",
    "        p.data.add_(p.grad.data, alpha=-learning_rate)\n",
    "    \n",
    "    return output, loss.item() #what is item? this is a function that returns the value of this tensor as a standard python number\n",
    "    "
   ]
  },
  {
   "cell_type": "code",
   "execution_count": 48,
   "metadata": {},
   "outputs": [
    {
     "name": "stdout",
     "output_type": "stream",
     "text": [
      "5000 1% (0m 4s) 3.0242 Senmatsu / Greek ✗ (Japanese)\n",
      "10000 2% (0m 9s) 0.9596 Bukoski / Polish ✓\n",
      "15000 3% (0m 14s) 0.3276 Krakowski / Polish ✓\n",
      "20000 4% (0m 19s) 1.7760 Arena / Spanish ✓\n",
      "25000 5% (0m 23s) 2.0625 Karl / Dutch ✓\n",
      "30000 6% (0m 28s) 0.1620 Zhelvakov / Russian ✓\n",
      "35000 7% (0m 33s) 1.0396 Peeters / Dutch ✓\n",
      "40000 8% (0m 37s) 1.1123 Siew / Chinese ✓\n",
      "45000 9% (0m 42s) 0.8560 OHannagain / Irish ✓\n",
      "50000 10% (0m 47s) 1.0141 Chermak / Czech ✓\n",
      "55000 11% (0m 51s) 0.4474 Huynh / Vietnamese ✓\n",
      "60000 12% (0m 56s) 0.6211 Luu / Vietnamese ✓\n",
      "65000 13% (1m 1s) 2.1247 Santana / Spanish ✗ (Portuguese)\n",
      "70000 14% (1m 5s) 3.3495 Paris / Greek ✗ (French)\n",
      "75000 15% (1m 10s) 1.4245 She / Korean ✗ (Chinese)\n",
      "80000 16% (1m 15s) 1.0869 Rijnder / Dutch ✓\n",
      "85000 17% (1m 19s) 1.8718 Nanami / Arabic ✗ (Japanese)\n",
      "90000 18% (1m 24s) 0.0494 Thao / Vietnamese ✓\n",
      "95000 19% (1m 29s) 1.3127 Macon / French ✓\n",
      "100000 20% (1m 33s) 0.5493 Duong / Vietnamese ✓\n",
      "105000 21% (1m 38s) 1.0305 Bueren / Dutch ✓\n",
      "110000 22% (1m 43s) 0.1152 Hatoyama / Japanese ✓\n",
      "115000 23% (1m 48s) 0.1624 Horiatis / Greek ✓\n",
      "120000 24% (1m 53s) 1.8392 Mizutani / Italian ✗ (Japanese)\n",
      "125000 25% (1m 57s) 0.0579 Kefalas / Greek ✓\n",
      "130000 26% (2m 2s) 1.9298 Ullman / Irish ✗ (English)\n",
      "135000 27% (2m 7s) 0.7636 Xiang / Chinese ✓\n",
      "140000 28% (2m 12s) 2.5880 Simonis / Spanish ✗ (Dutch)\n",
      "145000 28% (2m 17s) 0.5603 Peng / Chinese ✓\n",
      "150000 30% (2m 21s) 0.4723 Rosario / Portuguese ✓\n",
      "155000 31% (2m 26s) 3.1555 Alt / English ✗ (Czech)\n",
      "160000 32% (2m 31s) 0.0155 Kotsiopoulos / Greek ✓\n",
      "165000 33% (2m 35s) 2.5349 Michel / Irish ✗ (French)\n",
      "170000 34% (2m 40s) 0.0556 Bukowski / Polish ✓\n",
      "175000 35% (2m 45s) 0.3525 Lac / Vietnamese ✓\n",
      "180000 36% (2m 49s) 1.3329 Faerber / German ✓\n",
      "185000 37% (2m 54s) 3.0783 Stabile / French ✗ (Italian)\n",
      "190000 38% (2m 59s) 1.9273 Rowe / Scottish ✗ (English)\n",
      "195000 39% (3m 4s) 1.2280 Owens / Dutch ✗ (English)\n",
      "200000 40% (3m 8s) 0.9700 Ho / Vietnamese ✗ (Korean)\n",
      "205000 41% (3m 13s) 0.8993 Starek / Polish ✓\n",
      "210000 42% (3m 18s) 2.7256 Dcruze / French ✗ (Spanish)\n",
      "215000 43% (3m 22s) 2.1101 Sai / Chinese ✗ (Vietnamese)\n",
      "220000 44% (3m 27s) 0.9867 Loong / Chinese ✓\n",
      "225000 45% (3m 32s) 0.2135 Ku / Korean ✓\n",
      "230000 46% (3m 36s) 0.4181 Tsuda / Japanese ✓\n",
      "235000 47% (3m 41s) 0.1458 Gwozdek / Polish ✓\n",
      "240000 48% (3m 45s) 0.9067 Babineaux / French ✓\n",
      "245000 49% (3m 50s) 0.0165 Assaf / Arabic ✓\n",
      "250000 50% (3m 55s) 1.4980 Torrens / French ✗ (English)\n",
      "255000 51% (3m 59s) 0.0183 Czajkowski / Polish ✓\n",
      "260000 52% (4m 4s) 0.2572 Horuzhenko / Russian ✓\n",
      "265000 53% (4m 9s) 0.6005 Almeida / Portuguese ✓\n",
      "270000 54% (4m 14s) 1.2922 Gouveia / Spanish ✗ (Portuguese)\n",
      "275000 55% (4m 18s) 0.0216 Rooiakker / Dutch ✓\n",
      "280000 56% (4m 23s) 2.8057 Macclelland / Dutch ✗ (Irish)\n",
      "285000 56% (4m 27s) 1.0488 Pinho / Portuguese ✓\n",
      "290000 57% (4m 32s) 0.0525 Malihoudis / Greek ✓\n",
      "295000 59% (4m 36s) 0.0209 Emanov / Russian ✓\n",
      "300000 60% (4m 41s) 0.0965 Schwarzenegger / German ✓\n",
      "305000 61% (4m 46s) 1.7399 Werrett / German ✗ (English)\n",
      "310000 62% (4m 50s) 1.2039 Moreno / Portuguese ✗ (Spanish)\n",
      "315000 63% (4m 55s) 0.5136 Rodagh / Irish ✓\n",
      "320000 64% (5m 0s) 0.2733 Sayegh / Arabic ✓\n",
      "325000 65% (5m 4s) 0.1055 Kasprzak / Polish ✓\n",
      "330000 66% (5m 9s) 0.4195 Doan / Vietnamese ✓\n",
      "335000 67% (5m 14s) 1.5102 Fairley / Irish ✗ (English)\n",
      "340000 68% (5m 19s) 0.6572 Omelchenko / Russian ✓\n",
      "345000 69% (5m 23s) 2.5483 Grant / German ✗ (Scottish)\n",
      "350000 70% (5m 28s) 0.2740 Shigi / Japanese ✓\n",
      "355000 71% (5m 32s) 1.1662 Jeong / Chinese ✗ (Korean)\n",
      "360000 72% (5m 37s) 1.2894 Vicario / Spanish ✗ (Italian)\n",
      "365000 73% (5m 41s) 2.4917 an / Chinese ✗ (Vietnamese)\n",
      "370000 74% (5m 46s) 1.5233 Ganem / Arabic ✓\n",
      "375000 75% (5m 50s) 2.1021 Kara / Japanese ✗ (Czech)\n",
      "380000 76% (5m 55s) 2.2812 Vogel / Czech ✗ (German)\n",
      "385000 77% (6m 0s) 0.2371 Diep / Vietnamese ✓\n",
      "390000 78% (6m 4s) 0.1421 Velazquez / Spanish ✓\n",
      "395000 79% (6m 9s) 0.0515 Yamaha / Japanese ✓\n",
      "400000 80% (6m 14s) 0.0921 Middlesworth / Dutch ✓\n",
      "405000 81% (6m 18s) 2.3973 Braun / Irish ✗ (German)\n",
      "410000 82% (6m 23s) 0.3729 Bang / Korean ✓\n",
      "415000 83% (6m 28s) 1.8932 Chen / Korean ✗ (Chinese)\n",
      "420000 84% (6m 33s) 0.3574 Frangopoulos / Greek ✓\n",
      "425000 85% (6m 37s) 3.8577 Doljs / Dutch ✗ (Czech)\n",
      "430000 86% (6m 42s) 3.4747 Frei / Italian ✗ (German)\n",
      "435000 87% (6m 47s) 0.3119 Rim / Korean ✓\n",
      "440000 88% (6m 52s) 0.5634 Tikhankin / Russian ✓\n",
      "445000 89% (6m 56s) 0.7315 Cao / Vietnamese ✓\n",
      "450000 90% (7m 1s) 0.8632 Bing / Vietnamese ✗ (Chinese)\n",
      "455000 91% (7m 6s) 0.7382 Awad / Arabic ✓\n",
      "460000 92% (7m 11s) 0.0495 Yi / Korean ✓\n",
      "465000 93% (7m 15s) 2.7945 Modegi / Polish ✗ (Japanese)\n",
      "470000 94% (7m 20s) 0.3196 Zajicek / Czech ✓\n",
      "475000 95% (7m 25s) 0.3182 Veen / Dutch ✓\n",
      "480000 96% (7m 30s) 1.8580 Klerkse / German ✗ (Dutch)\n",
      "485000 97% (7m 34s) 1.0120 Nieves / Spanish ✓\n",
      "490000 98% (7m 39s) 1.0862 Medina / Spanish ✓\n",
      "495000 99% (7m 44s) 0.8002 Ahn / Korean ✓\n",
      "500000 100% (7m 49s) 3.1291 Safko / Polish ✗ (Czech)\n"
     ]
    }
   ],
   "source": [
    "# training with some example\n",
    "import time\n",
    "import math\n",
    "\n",
    "n_iters = 500000\n",
    "print_every = 5000\n",
    "plot_every = 1000\n",
    "\n",
    "# Keep track of losses for plotting\n",
    "current_loss = 0\n",
    "all_losses = []\n",
    "\n",
    "def timeSince(since):\n",
    "    now = time.time()\n",
    "    s = now - since\n",
    "    m = math.floor(s/60)\n",
    "    s-=m*60\n",
    "    return '%dm %ds' % (m,s)\n",
    "\n",
    "start = time.time()\n",
    "\n",
    "for iter in range(1, n_iters+1):\n",
    "    category, line, category_tensor, line_tensor = randomTrainingExample()\n",
    "    output, loss = train(category_tensor, line_tensor)\n",
    "    current_loss+=loss\n",
    "\n",
    "    # Print iter number, loss, name and guess\n",
    "    if iter % print_every ==0:\n",
    "        guess, guess_i = categoryFromOutput(output)\n",
    "        correct = '✓' if guess == category else '✗ (%s)' % category\n",
    "        print('%d %d%% (%s) %.4f %s / %s %s'%(iter, iter/n_iters*100, timeSince(start),loss,line, guess, correct))\n",
    "        \n",
    "    # Add current loss avg to list of losses\n",
    "    if iter % plot_every == 0:\n",
    "        all_losses.append(current_loss/plot_every)\n",
    "        current_loss = 0\n",
    "        "
   ]
  },
  {
   "cell_type": "code",
   "execution_count": 49,
   "metadata": {},
   "outputs": [
    {
     "data": {
      "text/plain": [
       "[<matplotlib.lines.Line2D at 0x7f9f90308280>]"
      ]
     },
     "execution_count": 49,
     "metadata": {},
     "output_type": "execute_result"
    },
    {
     "data": {
      "image/png": "[encoded data removed]",
      "text/plain": [
       "<Figure size 640x480 with 1 Axes>"
      ]
     },
     "metadata": {},
     "output_type": "display_data"
    }
   ],
   "source": [
    "import matplotlib.pyplot as plt\n",
    "import matplotlib.ticker as ticker\n",
    "\n",
    "plt.figure()\n",
    "plt.plot(all_losses)"
   ]
  },
  {
   "attachments": {},
   "cell_type": "markdown",
   "metadata": {},
   "source": [
    "Evaluating the Results\n",
    "\n",
    "To see how well the network performs on different categories, we will create a confusion matrix, indicating for every actual language (rows) which language the network guesses (columns). To calculate the confusion matrix a bunch of samples are run through the network with evaluate(), which is the same as train() minus the backprop."
   ]
  },
  {
   "cell_type": "code",
   "execution_count": 50,
   "metadata": {},
   "outputs": [
    {
     "data": {
      "image/png": "[encoded data removed]",
      "text/plain": [
       "<Figure size 640x480 with 2 Axes>"
      ]
     },
     "metadata": {},
     "output_type": "display_data"
    }
   ],
   "source": [
    "#confusion matrix\n",
    "# Keep track of correct guesses in a confusion matrix\n",
    "confusion = torch.zeros(n_categories, n_categories)\n",
    "n_confusion = 10000\n",
    "\n",
    "# Just return an output given a line\n",
    "def evaluate(line_tensor):\n",
    "    hidden = rnn.initHidden()\n",
    "    \n",
    "    for i in range(line_tensor.size()[0]):\n",
    "        output, hidden = rnn(line_tensor[i],hidden)\n",
    "    \n",
    "    return output\n",
    "\n",
    "\n",
    "# Go through a bunch of examples and record which are correctly guessed\n",
    "for i in range(n_confusion):\n",
    "    category, line, category_tensor, line_tensor = randomTrainingExample()\n",
    "    output = evaluate(line_tensor)\n",
    "    guess, guess_i = categoryFromOutput(output)\n",
    "    category_i = all_categories.index(category)\n",
    "    confusion[category_i][guess_i]+=1\n",
    "    \n",
    "\n",
    "# Normalize by dividing every row by its sum\n",
    "for i in range(n_categories):\n",
    "    confusion[i] = confusion[i]/confusion[i].sum()\n",
    "    \n",
    "#Set up plot\n",
    "\n",
    "fig = plt.figure()\n",
    "ax = fig.add_subplot(111)\n",
    "cax = ax.matshow(confusion.numpy())\n",
    "fig.colorbar(cax)\n",
    "\n",
    "#Set up axes\n",
    "ax.set_xticklabels(['']+all_categories,rotation=90)\n",
    "ax.set_yticklabels(['']+all_categories)\n",
    "\n",
    "#Force label at every tick\n",
    "ax.xaxis.set_major_locator(ticker.MultipleLocator(1))\n",
    "ax.yaxis.set_major_locator(ticker.MultipleLocator(1))\n",
    "\n",
    "# sphinx_gallery_thumbnail_number = 2\n",
    "plt.show()\n",
    "    \n",
    "\n"
   ]
  },
  {
   "attachments": {},
   "cell_type": "markdown",
   "metadata": {},
   "source": [
    "Running on User Input"
   ]
  },
  {
   "cell_type": "code",
   "execution_count": 53,
   "metadata": {},
   "outputs": [
    {
     "name": "stdout",
     "output_type": "stream",
     "text": [
      "\n",
      " Dovesky\n",
      "(-0.33) Russian\n",
      "(-2.06) Czech\n",
      "(-2.37) Irish\n",
      "\n",
      " Jackson\n",
      "(-0.02) Scottish\n",
      "(-4.43) English\n",
      "(-5.63) Russian\n",
      "\n",
      " John\n",
      "(-0.78) Korean\n",
      "(-1.34) Irish\n",
      "(-2.16) Chinese\n",
      "\n",
      " Ruturaj\n",
      "(-0.47) Scottish\n",
      "(-2.28) Greek\n",
      "(-2.53) Arabic\n",
      "\n",
      " Aydin\n",
      "(-0.47) Arabic\n",
      "(-1.73) Russian\n",
      "(-2.47) Irish\n"
     ]
    }
   ],
   "source": [
    "def predict(input_line, n_predictions=3):\n",
    "    print('\\n %s'% input_line)\n",
    "    with torch.no_grad():\n",
    "        output = evaluate(lineToTensor(input_line))\n",
    "        \n",
    "        #Get top N categories\n",
    "        topv, topi = output.topk(n_predictions,1,True)\n",
    "        predictions = []\n",
    "        \n",
    "        for i in range(n_predictions):\n",
    "            value = topv[0][i].item()\n",
    "            category_index = topi[0][i].item()\n",
    "            print('(%.2f) %s' % (value, all_categories[category_index]))\n",
    "            predictions.append([value, all_categories[category_index]])\n",
    "            \n",
    "predict('Dovesky')\n",
    "predict('Jackson')\n",
    "predict('John')\n",
    "predict('Ruturaj')\n",
    "predict('Aydin')"
   ]
  },
  {
   "cell_type": "code",
   "execution_count": 64,
   "metadata": {},
   "outputs": [],
   "source": [
    "import torch.nn as nn\n",
    "\n",
    "class RNN_LSTM(nn.Module):\n",
    "    def __init__(self, input_size, hidden_size, output_size):\n",
    "        super(RNN,self).__init__()\n",
    "        \n",
    "        self.hidden_size = hidden_size\n",
    "        # self.i2h = nn.Linear(input_size + hidden_size, hidden_size)\n",
    "        # self.i2o = nn.Linear(input_size + hidden_size, output_size)\n",
    "        # self.softmax = nn.LogSoftmax(dim=1) #why dim=1? this is the dimension along which the softmax is applied\n",
    "        self.lstm = nn.LSTM(input_size, hidden_size, 1)\n",
    "        \n",
    "    def forward(self, input, hidden):\n",
    "        # combined = torch.cat((input, hidden), 1)#why this dimension? this is the dimension along which the tensors are concatenated\n",
    "        # hidden = self.i2h(combined)\n",
    "        # output = self.i2o(combined)\n",
    "        # output = self.softmax(output)\n",
    "        lstm_out, _ = self.lstm(input.view(len(input), 1, -1), hidden)\n",
    "        return output, hidden\n",
    "\n",
    "        \n",
    "    def initHidden(self):\n",
    "        return torch.zeros(1,self.hidden_size)\n",
    "\n",
    "n_hidden = 128\n",
    "# rnn = RNN(n_letters, n_hidden, n_categories)\n",
    "rnn = nn.LSTM(n_letters, n_hidden, 1)\n"
   ]
  },
  {
   "cell_type": "code",
   "execution_count": 67,
   "metadata": {},
   "outputs": [],
   "source": [
    "learning_rate = 0.005 # If you set this too high, it might explode. If too low, it might not learn\n",
    "\n",
    "def rnn_train(category_tensor, line_tensor):\n",
    "    # hidden = rnn.initHidden()\n",
    "    \n",
    "    rnn.zero_grad()\n",
    "    # TODO initisation of hidden state\n",
    "    h_n = torch.zeros(1,n_hidden)\n",
    "    c_n = torch.zeros(1,n_hidden)\n",
    "    \n",
    "    \n",
    "    for i in range(line_tensor.size()[0]):\n",
    "        output, (h_n,c_n) =  rnn(line_tensor[i],  (h_n,c_n))\n",
    "        \n",
    "    loss = criterion(output, category_tensor)\n",
    "    loss.backward()\n",
    "    \n",
    "    # Add parameters' gradients to their values, multiplied by learning rate\n",
    "    for p in rnn.parameters():\n",
    "        p.data.add_(p.grad.data, alpha=-learning_rate)\n",
    "    \n",
    "    return output, loss.item() #what is item? this is a function that returns the value of this tensor as a standard python number\n",
    "    "
   ]
  },
  {
   "cell_type": "code",
   "execution_count": 68,
   "metadata": {},
   "outputs": [
    {
     "ename": "RuntimeError",
     "evalue": "For unbatched 2-D input, hx and cx should also be 2-D but got (3-D, 3-D) tensors",
     "output_type": "error",
     "traceback": [
      "\u001b[0;31m---------------------------------------------------------------------------\u001b[0m",
      "\u001b[0;31mRuntimeError\u001b[0m                              Traceback (most recent call last)",
      "Cell \u001b[0;32mIn[68], line 24\u001b[0m\n\u001b[1;32m     22\u001b[0m \u001b[39mfor\u001b[39;00m \u001b[39miter\u001b[39m \u001b[39min\u001b[39;00m \u001b[39mrange\u001b[39m(\u001b[39m1\u001b[39m, n_iters\u001b[39m+\u001b[39m\u001b[39m1\u001b[39m):\n\u001b[1;32m     23\u001b[0m     category, line, category_tensor, line_tensor \u001b[39m=\u001b[39m randomTrainingExample()\n\u001b[0;32m---> 24\u001b[0m     output, loss \u001b[39m=\u001b[39m rnn_train(category_tensor, line_tensor)\n\u001b[1;32m     25\u001b[0m     current_loss\u001b[39m+\u001b[39m\u001b[39m=\u001b[39mloss\n\u001b[1;32m     27\u001b[0m     \u001b[39m# Print iter number, loss, name and guess\u001b[39;00m\n",
      "Cell \u001b[0;32mIn[67], line 13\u001b[0m, in \u001b[0;36mrnn_train\u001b[0;34m(category_tensor, line_tensor)\u001b[0m\n\u001b[1;32m      9\u001b[0m c_n \u001b[39m=\u001b[39m torch\u001b[39m.\u001b[39mzeros(\u001b[39m1\u001b[39m,\u001b[39m1\u001b[39m,n_hidden)\n\u001b[1;32m     12\u001b[0m \u001b[39mfor\u001b[39;00m i \u001b[39min\u001b[39;00m \u001b[39mrange\u001b[39m(line_tensor\u001b[39m.\u001b[39msize()[\u001b[39m0\u001b[39m]):\n\u001b[0;32m---> 13\u001b[0m     output, (h_n,c_n) \u001b[39m=\u001b[39m  rnn(line_tensor[i],  (h_n,c_n))\n\u001b[1;32m     15\u001b[0m loss \u001b[39m=\u001b[39m criterion(output, category_tensor)\n\u001b[1;32m     16\u001b[0m loss\u001b[39m.\u001b[39mbackward()\n",
      "File \u001b[0;32m~/.local/lib/python3.8/site-packages/torch/nn/modules/module.py:1194\u001b[0m, in \u001b[0;36mModule._call_impl\u001b[0;34m(self, *input, **kwargs)\u001b[0m\n\u001b[1;32m   1190\u001b[0m \u001b[39m# If we don't have any hooks, we want to skip the rest of the logic in\u001b[39;00m\n\u001b[1;32m   1191\u001b[0m \u001b[39m# this function, and just call forward.\u001b[39;00m\n\u001b[1;32m   1192\u001b[0m \u001b[39mif\u001b[39;00m \u001b[39mnot\u001b[39;00m (\u001b[39mself\u001b[39m\u001b[39m.\u001b[39m_backward_hooks \u001b[39mor\u001b[39;00m \u001b[39mself\u001b[39m\u001b[39m.\u001b[39m_forward_hooks \u001b[39mor\u001b[39;00m \u001b[39mself\u001b[39m\u001b[39m.\u001b[39m_forward_pre_hooks \u001b[39mor\u001b[39;00m _global_backward_hooks\n\u001b[1;32m   1193\u001b[0m         \u001b[39mor\u001b[39;00m _global_forward_hooks \u001b[39mor\u001b[39;00m _global_forward_pre_hooks):\n\u001b[0;32m-> 1194\u001b[0m     \u001b[39mreturn\u001b[39;00m forward_call(\u001b[39m*\u001b[39;49m\u001b[39minput\u001b[39;49m, \u001b[39m*\u001b[39;49m\u001b[39m*\u001b[39;49mkwargs)\n\u001b[1;32m   1195\u001b[0m \u001b[39m# Do not call functions when jit is used\u001b[39;00m\n\u001b[1;32m   1196\u001b[0m full_backward_hooks, non_full_backward_hooks \u001b[39m=\u001b[39m [], []\n",
      "File \u001b[0;32m~/.local/lib/python3.8/site-packages/torch/nn/modules/rnn.py:765\u001b[0m, in \u001b[0;36mLSTM.forward\u001b[0;34m(self, input, hx)\u001b[0m\n\u001b[1;32m    762\u001b[0m         \u001b[39mif\u001b[39;00m hx[\u001b[39m0\u001b[39m]\u001b[39m.\u001b[39mdim() \u001b[39m!=\u001b[39m \u001b[39m2\u001b[39m \u001b[39mor\u001b[39;00m hx[\u001b[39m1\u001b[39m]\u001b[39m.\u001b[39mdim() \u001b[39m!=\u001b[39m \u001b[39m2\u001b[39m:\n\u001b[1;32m    763\u001b[0m             msg \u001b[39m=\u001b[39m (\u001b[39m\"\u001b[39m\u001b[39mFor unbatched 2-D input, hx and cx should \u001b[39m\u001b[39m\"\u001b[39m\n\u001b[1;32m    764\u001b[0m                    \u001b[39mf\u001b[39m\u001b[39m\"\u001b[39m\u001b[39malso be 2-D but got (\u001b[39m\u001b[39m{\u001b[39;00mhx[\u001b[39m0\u001b[39m]\u001b[39m.\u001b[39mdim()\u001b[39m}\u001b[39;00m\u001b[39m-D, \u001b[39m\u001b[39m{\u001b[39;00mhx[\u001b[39m1\u001b[39m]\u001b[39m.\u001b[39mdim()\u001b[39m}\u001b[39;00m\u001b[39m-D) tensors\u001b[39m\u001b[39m\"\u001b[39m)\n\u001b[0;32m--> 765\u001b[0m             \u001b[39mraise\u001b[39;00m \u001b[39mRuntimeError\u001b[39;00m(msg)\n\u001b[1;32m    766\u001b[0m         hx \u001b[39m=\u001b[39m (hx[\u001b[39m0\u001b[39m]\u001b[39m.\u001b[39munsqueeze(\u001b[39m1\u001b[39m), hx[\u001b[39m1\u001b[39m]\u001b[39m.\u001b[39munsqueeze(\u001b[39m1\u001b[39m))\n\u001b[1;32m    768\u001b[0m \u001b[39m# Each batch of the hidden state should match the input sequence that\u001b[39;00m\n\u001b[1;32m    769\u001b[0m \u001b[39m# the user believes he/she is passing in.\u001b[39;00m\n",
      "\u001b[0;31mRuntimeError\u001b[0m: For unbatched 2-D input, hx and cx should also be 2-D but got (3-D, 3-D) tensors"
     ]
    }
   ],
   "source": [
    "# training with some example\n",
    "import time\n",
    "import math\n",
    "\n",
    "n_iters = 500000\n",
    "print_every = 5000\n",
    "plot_every = 1000\n",
    "\n",
    "# Keep track of losses for plotting\n",
    "current_loss = 0\n",
    "all_losses = []\n",
    "\n",
    "def timeSince(since):\n",
    "    now = time.time()\n",
    "    s = now - since\n",
    "    m = math.floor(s/60)\n",
    "    s-=m*60\n",
    "    return '%dm %ds' % (m,s)\n",
    "\n",
    "start = time.time()\n",
    "\n",
    "for iter in range(1, n_iters+1):\n",
    "    category, line, category_tensor, line_tensor = randomTrainingExample()\n",
    "    output, loss = rnn_train(category_tensor, line_tensor)\n",
    "    current_loss+=loss\n",
    "\n",
    "    # Print iter number, loss, name and guess\n",
    "    if iter % print_every ==0:\n",
    "        guess, guess_i = categoryFromOutput(output)\n",
    "        correct = '✓' if guess == category else '✗ (%s)' % category\n",
    "        print('%d %d%% (%s) %.4f %s / %s %s'%(iter, iter/n_iters*100, timeSince(start),loss,line, guess, correct))\n",
    "        \n",
    "    # Add current loss avg to list of losses\n",
    "    if iter % plot_every == 0:\n",
    "        all_losses.append(current_loss/plot_every)\n",
    "        current_loss = 0\n",
    "        "
   ]
  }
 ],
 "metadata": {
  "kernelspec": {
   "display_name": "Python 3",
   "language": "python",
   "name": "python3"
  },
  "language_info": {
   "codemirror_mode": {
    "name": "ipython",
    "version": 3
   },
   "file_extension": ".py",
   "mimetype": "text/x-python",
   "name": "python",
   "nbconvert_exporter": "python",
   "pygments_lexer": "ipython3",
   "version": "3.8.10"
  },
  "orig_nbformat": 4,
  "vscode": {
   "interpreter": {
    "hash": "767d51c1340bd893661ea55ea3124f6de3c7a262a8b4abca0554b478b1e2ff90"
   }
  }
 },
 "nbformat": 4,
 "nbformat_minor": 2
}
